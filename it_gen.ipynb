{
 "cells": [
  {
   "cell_type": "code",
   "execution_count": 1,
   "metadata": {},
   "outputs": [
    {
     "name": "stdout",
     "output_type": "stream",
     "text": [
      "a\n",
      "b\n",
      "c\n",
      "d\n",
      "e\n",
      "f\n",
      "h\n",
      "False\n",
      "1\n",
      "2\n",
      "None\n",
      "['a', 'b', 'c', 'd', 'e', 'f', 'h', False, 1, 2, None]\n",
      "a\n",
      "b\n",
      "c\n",
      "d\n",
      "e\n",
      "f\n",
      "h\n",
      "False\n",
      "1\n",
      "2\n",
      "None\n"
     ]
    }
   ],
   "source": [
    "nested_list = [\n",
    "    ['a', 'b', 'c'],\n",
    "    ['d', 'e', 'f','h',False],\n",
    "    [1, 2, None],\n",
    "]\n",
    "\n",
    "class FlatIterator:\n",
    "    def __init__(self, f_list):\n",
    "        self.f_list = f_list\n",
    "        self.cursor = -1\n",
    "        self.stop = len(self.f_list)\n",
    "\n",
    "    def __iter__(self):\n",
    "        self.cursor1 = 0\n",
    "        self.cursor += 1\n",
    "        return self\n",
    "\n",
    "    def __next__(self):\n",
    "        if self.cursor1 == len(self.f_list[self.cursor]):\n",
    "          iter(self)\n",
    "        if self.cursor == self.stop:\n",
    "          raise StopIteration\n",
    "        self.cursor1 += 1\n",
    "        return self.f_list[self.cursor][self.cursor1 - 1]\n",
    "\n",
    "for item in FlatIterator(nested_list):\n",
    "  print(item)\n",
    "flat_list = list(item for item in FlatIterator(nested_list))\n",
    "print(flat_list)\n",
    "\n",
    "\n",
    "def flat_generator(list):\n",
    "  for item in list:\n",
    "    for el in item:\n",
    "      yield(el)\n",
    "for item in  flat_generator(nested_list):\n",
    "\tprint(item)"
   ]
  }
 ],
 "metadata": {
  "interpreter": {
   "hash": "b89b5cfaba6639976dc87ff2fec6d58faec662063367e2c229c520fe71072417"
  },
  "kernelspec": {
   "display_name": "Python 3.10.0 64-bit",
   "language": "python",
   "name": "python3"
  },
  "language_info": {
   "codemirror_mode": {
    "name": "ipython",
    "version": 3
   },
   "file_extension": ".py",
   "mimetype": "text/x-python",
   "name": "python",
   "nbconvert_exporter": "python",
   "pygments_lexer": "ipython3",
   "version": "3.10.0"
  },
  "orig_nbformat": 4
 },
 "nbformat": 4,
 "nbformat_minor": 2
}
